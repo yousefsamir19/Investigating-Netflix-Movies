{
 "cells": [
  {
   "cell_type": "markdown",
   "id": "937acf3c-c077-4ca6-8d90-8f6dd4d13c54",
   "metadata": {},
   "source": [
    "<center><img src=\"redpopcorn.jpg\"></center>"
   ]
  },
  {
   "cell_type": "markdown",
   "id": "5962b2cd-17bb-4ec9-b2d5-68537ca26860",
   "metadata": {},
   "source": [
    "**Netflix**! What started in 1997 as a DVD rental service has since exploded into one of the largest entertainment and media companies.\n",
    "\n",
    "Given the large number of movies and series available on the platform, it is a perfect opportunity to flex your exploratory data analysis skills and dive into the entertainment industry.\n",
    "\n",
    "You work for a production company that specializes in nostalgic styles. You want to do some research on movies released in the 1990's. You'll delve into Netflix data and perform exploratory data analysis to better understand this awesome movie decade!\n",
    "\n",
    "You have been supplied with the dataset `netflix_data.csv`, along with the following table detailing the column names and descriptions. Feel free to experiment further after submitting!\n",
    "\n",
    "## The data\n",
    "### **netflix_data.csv**\n",
    "| Column | Description |\n",
    "|--------|-------------|\n",
    "| `show_id` | The ID of the show |\n",
    "| `type` | Type of show |\n",
    "| `title` | Title of the show |\n",
    "| `director` | Director of the show |\n",
    "| `cast` | Cast of the show |\n",
    "| `country` | Country of origin |\n",
    "| `date_added` | Date added to Netflix |\n",
    "| `release_year` | Year of Netflix release |\n",
    "| `duration` | Duration of the show in minutes |\n",
    "| `description` | Description of the show |\n",
    "| `genre` | Show genre |"
   ]
  },
  {
   "cell_type": "code",
   "execution_count": 1,
   "id": "320a3abc-8a36-4b2b-baaf-473325363a4d",
   "metadata": {
    "executionCancelledAt": null,
    "executionTime": 36,
    "lastExecutedAt": 1716304519424,
    "lastExecutedByKernel": "0d939945-001f-4d0d-a547-a84889cb9c27",
    "lastScheduledRunId": null,
    "lastSuccessfullyExecutedCode": "# Importing pandas and matplotlib\nimport pandas as pd\nimport matplotlib.pyplot as plt\n\n# Read in the Netflix CSV as a DataFrame\nnetflix_df = pd.read_csv(\"netflix_data.csv\")"
   },
   "outputs": [],
   "source": [
    "# Importing pandas and matplotlib and numpy\n",
    "import pandas as pd\n",
    "import matplotlib.pyplot as plt\n",
    "import numpy as np\n",
    "\n",
    "# Read in the Netflix CSV as a DataFrame\n",
    "netflix_df = pd.read_csv(\"netflix_data.csv\" , index_col=0)"
   ]
  },
  {
   "cell_type": "markdown",
   "id": "488918cb",
   "metadata": {},
   "source": [
    "## The most frequent movie duration in the 1990s"
   ]
  },
  {
   "cell_type": "code",
   "execution_count": null,
   "id": "dcbe9f09",
   "metadata": {},
   "outputs": [],
   "source": [
    "# Subset the DataFrame for type \"Movie\"\n",
    "movies_90s = netflix_df[netflix_df['type'] == \"Movie\"]\n",
    "\n",
    "# Filter the data to keep only movies released in the 1990s\n",
    "movies_90s = movies_90s[np.logical_and(movies_90s['release_year'] >= 1990 , movies_90s['release_year'] < 2000)]"
   ]
  },
  {
   "cell_type": "code",
   "execution_count": 3,
   "id": "ed8890ff",
   "metadata": {},
   "outputs": [
    {
     "data": {
      "image/png": "[encoded data removed]",
      "text/plain": [
       "<Figure size 640x480 with 1 Axes>"
      ]
     },
     "metadata": {},
     "output_type": "display_data"
    }
   ],
   "source": [
    "# Visualize the duration column of filtered data to see the distribution of movie durations\n",
    "plt.hist(movies_90s['duration'], bins=40)\n",
    "plt.title('Distribution of Movie Durations in the 1990s')\n",
    "plt.xlabel('Duration (minutes)')\n",
    "plt.ylabel('Number of Movies')\n",
    "plt.show()"
   ]
  },
  {
   "cell_type": "code",
   "execution_count": 15,
   "id": "7e10d0d2",
   "metadata": {},
   "outputs": [
    {
     "name": "stdout",
     "output_type": "stream",
     "text": [
      "94\n"
     ]
    }
   ],
   "source": [
    "# The most frequent duration \n",
    "duration = movies_90s['duration'].mode()[0]\n",
    "print(duration)"
   ]
  },
  {
   "cell_type": "markdown",
   "id": "ff9383d4",
   "metadata": {},
   "source": [
    "## Short action movies under the 90 min released in the 1990s"
   ]
  },
  {
   "cell_type": "code",
   "execution_count": 8,
   "id": "2797ad07",
   "metadata": {},
   "outputs": [
    {
     "name": "stdout",
     "output_type": "stream",
     "text": [
      "7\n"
     ]
    }
   ],
   "source": [
    "# Filter the data again to keep only the Action movies\n",
    "action_movies_1990s = movies_90s[movies_90s['genre'] == \"Action\"]\n",
    "\n",
    "# Filter the data to keep the movies under 90 minutes \n",
    "action_movies_1990s=action_movies_1990s[action_movies_1990s['duration'] < 90]\n",
    "\n",
    "# Number of movies\n",
    "short_movie_count = action_movies_1990s['duration'].count()\n",
    "print(short_movie_count)"
   ]
  }
 ],
 "metadata": {
  "colab": {
   "name": "Welcome to DataCamp Workspaces.ipynb",
   "provenance": []
  },
  "editor": "DataLab",
  "kernelspec": {
   "display_name": "Python 3",
   "language": "python",
   "name": "python3"
  },
  "language_info": {
   "codemirror_mode": {
    "name": "ipython",
    "version": 3
   },
   "file_extension": ".py",
   "mimetype": "text/x-python",
   "name": "python",
   "nbconvert_exporter": "python",
   "pygments_lexer": "ipython3",
   "version": "3.13.1"
  }
 },
 "nbformat": 4,
 "nbformat_minor": 5
}
